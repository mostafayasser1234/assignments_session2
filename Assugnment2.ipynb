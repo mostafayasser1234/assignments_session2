{
 "cells": [
  {
   "cell_type": "code",
   "execution_count": 3,
   "id": "8d03bd8a",
   "metadata": {},
   "outputs": [
    {
     "name": "stdout",
     "output_type": "stream",
     "text": [
      "Enter the num1: 10\n",
      "Enter the num2: 20\n",
      "The maximum of all values is 20\n"
     ]
    }
   ],
   "source": [
    "num1 = int(input(\"Enter the num1: \"))\n",
    "num2 = int(input(\"Enter the num2: \"))\n",
    "print(\"The maximum of all values is\", (num1 if num1 >= num2 else num2 ))"
   ]
  },
  {
   "cell_type": "code",
   "execution_count": 4,
   "id": "2c2e33b3",
   "metadata": {},
   "outputs": [
    {
     "name": "stdout",
     "output_type": "stream",
     "text": [
      "Enter the num1:100\n",
      "Enter the num2:200\n",
      "Enter the num3:300\n",
      "The maximum of all values is: 300\n"
     ]
    }
   ],
   "source": [
    "def maximum(num1, num2, num3):\n",
    "    list = [num1, num2, num3]\n",
    "    return max(list)\n",
    "num1= int(input(\"Enter the num1:\"))\n",
    "num2= int(input(\"Enter the num2:\"))\n",
    "num3= int(input(\"Enter the num3:\"))\n",
    "\n",
    "\n",
    "print(\"The maximum of all values is:\",maximum(num1, num2, num3))"
   ]
  },
  {
   "cell_type": "code",
   "execution_count": 6,
   "id": "cf5ac295",
   "metadata": {},
   "outputs": [
    {
     "name": "stdout",
     "output_type": "stream",
     "text": [
      "Enter the num:-100\n",
      "num  is negative\n"
     ]
    }
   ],
   "source": [
    "num1 = int(input(\"Enter the num:\"))\n",
    "\n",
    "print(\"num  is positive\" if num1 > 0 else \"num  is negative\")"
   ]
  },
  {
   "cell_type": "code",
   "execution_count": 9,
   "id": "bfec7683",
   "metadata": {},
   "outputs": [
    {
     "name": "stdout",
     "output_type": "stream",
     "text": [
      "Enter the num:9\n",
      "the number is odd\n"
     ]
    }
   ],
   "source": [
    "num1 = int(input(\"Enter the num:\"))\n",
    "print(\"the number is even\" if num1%2==0 else \"the number is odd\")\n"
   ]
  },
  {
   "cell_type": "code",
   "execution_count": 13,
   "id": "c06f43bc",
   "metadata": {},
   "outputs": [
    {
     "name": "stdout",
     "output_type": "stream",
     "text": [
      "Enter the number for the multiplication table: 10\n",
      "Enter the number of rows for the multiplication table: 10\n",
      "10 * 1 = 10\n",
      "10 * 2 = 20\n",
      "10 * 3 = 30\n",
      "10 * 4 = 40\n",
      "10 * 5 = 50\n",
      "10 * 6 = 60\n",
      "10 * 7 = 70\n",
      "10 * 8 = 80\n",
      "10 * 9 = 90\n",
      "10 * 10 = 100\n"
     ]
    }
   ],
   "source": [
    "num1 = int(input(\"Enter the number for the multiplication table: \"))\n",
    "num2 = int(input(\"Enter the number of rows for the multiplication table: \"))\n",
    "\n",
    "for i in range(1, num2 + 1):\n",
    "    result = num1 * i\n",
    "    print(f\"{num1} * {i} = {result}\")\n",
    "\n",
    "\n",
    "  "
   ]
  },
  {
   "cell_type": "code",
   "execution_count": 16,
   "id": "9a4b7cd3",
   "metadata": {},
   "outputs": [
    {
     "name": "stdout",
     "output_type": "stream",
     "text": [
      "[4, 3, 2, 1]\n"
     ]
    }
   ],
   "source": [
    "List=[1,2,3,4]\n",
    "List.reverse()\n",
    "print(List)"
   ]
  }
 ],
 "metadata": {
  "kernelspec": {
   "display_name": "Python 3 (ipykernel)",
   "language": "python",
   "name": "python3"
  },
  "language_info": {
   "codemirror_mode": {
    "name": "ipython",
    "version": 3
   },
   "file_extension": ".py",
   "mimetype": "text/x-python",
   "name": "python",
   "nbconvert_exporter": "python",
   "pygments_lexer": "ipython3",
   "version": "3.11.5"
  }
 },
 "nbformat": 4,
 "nbformat_minor": 5
}
